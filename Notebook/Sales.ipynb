{
  "nbformat": 4,
  "nbformat_minor": 0,
  "metadata": {
    "colab": {
      "name": "Untitled30.ipynb",
      "provenance": [],
      "collapsed_sections": []
    },
    "kernelspec": {
      "name": "python3",
      "display_name": "Python 3"
    },
    "language_info": {
      "name": "python"
    }
  },
  "cells": [
    {
      "cell_type": "code",
      "metadata": {
        "id": "ZiRkNj-LXlYm"
      },
      "source": [
        "import pandas as pd\n",
        "import numpy as np\n",
        "from tqdm import tqdm\n",
        "import warnings\n",
        "warnings.filterwarnings('ignore')\n",
        "from sklearn.ensemble import RandomForestRegressor\n",
        "from sklearn.metrics import mean_squared_log_error"
      ],
      "execution_count": 1,
      "outputs": []
    },
    {
      "cell_type": "code",
      "metadata": {
        "id": "SmeIpb_YY6FD"
      },
      "source": [
        "data = pd.read_csv('TRAIN.csv')"
      ],
      "execution_count": 26,
      "outputs": []
    },
    {
      "cell_type": "code",
      "metadata": {
        "id": "BeN3a1JdZHWb"
      },
      "source": [
        "test = pd.read_csv('TEST_FINAL.csv')"
      ],
      "execution_count": 29,
      "outputs": []
    },
    {
      "cell_type": "code",
      "metadata": {
        "id": "hu3cIIV7ZXzN"
      },
      "source": [
        "data['Discount'].replace({'Yes':1,'No':0},inplace=True)"
      ],
      "execution_count": 30,
      "outputs": []
    },
    {
      "cell_type": "code",
      "metadata": {
        "colab": {
          "base_uri": "https://localhost:8080/",
          "height": 195
        },
        "id": "_8UDhvW9Z2y2",
        "outputId": "d448110f-f2f6-4803-f0fd-0657ea9897a0"
      },
      "source": [
        "data.head()"
      ],
      "execution_count": 31,
      "outputs": [
        {
          "output_type": "execute_result",
          "data": {
            "text/html": [
              "<div>\n",
              "<style scoped>\n",
              "    .dataframe tbody tr th:only-of-type {\n",
              "        vertical-align: middle;\n",
              "    }\n",
              "\n",
              "    .dataframe tbody tr th {\n",
              "        vertical-align: top;\n",
              "    }\n",
              "\n",
              "    .dataframe thead th {\n",
              "        text-align: right;\n",
              "    }\n",
              "</style>\n",
              "<table border=\"1\" class=\"dataframe\">\n",
              "  <thead>\n",
              "    <tr style=\"text-align: right;\">\n",
              "      <th></th>\n",
              "      <th>ID</th>\n",
              "      <th>Store_id</th>\n",
              "      <th>Store_Type</th>\n",
              "      <th>Location_Type</th>\n",
              "      <th>Region_Code</th>\n",
              "      <th>Date</th>\n",
              "      <th>Holiday</th>\n",
              "      <th>Discount</th>\n",
              "      <th>#Order</th>\n",
              "      <th>Sales</th>\n",
              "    </tr>\n",
              "  </thead>\n",
              "  <tbody>\n",
              "    <tr>\n",
              "      <th>0</th>\n",
              "      <td>T1000001</td>\n",
              "      <td>1</td>\n",
              "      <td>S1</td>\n",
              "      <td>L3</td>\n",
              "      <td>R1</td>\n",
              "      <td>2018-01-01</td>\n",
              "      <td>1</td>\n",
              "      <td>1</td>\n",
              "      <td>9</td>\n",
              "      <td>7011.84</td>\n",
              "    </tr>\n",
              "    <tr>\n",
              "      <th>1</th>\n",
              "      <td>T1000002</td>\n",
              "      <td>253</td>\n",
              "      <td>S4</td>\n",
              "      <td>L2</td>\n",
              "      <td>R1</td>\n",
              "      <td>2018-01-01</td>\n",
              "      <td>1</td>\n",
              "      <td>1</td>\n",
              "      <td>60</td>\n",
              "      <td>51789.12</td>\n",
              "    </tr>\n",
              "    <tr>\n",
              "      <th>2</th>\n",
              "      <td>T1000003</td>\n",
              "      <td>252</td>\n",
              "      <td>S3</td>\n",
              "      <td>L2</td>\n",
              "      <td>R1</td>\n",
              "      <td>2018-01-01</td>\n",
              "      <td>1</td>\n",
              "      <td>1</td>\n",
              "      <td>42</td>\n",
              "      <td>36868.20</td>\n",
              "    </tr>\n",
              "    <tr>\n",
              "      <th>3</th>\n",
              "      <td>T1000004</td>\n",
              "      <td>251</td>\n",
              "      <td>S2</td>\n",
              "      <td>L3</td>\n",
              "      <td>R1</td>\n",
              "      <td>2018-01-01</td>\n",
              "      <td>1</td>\n",
              "      <td>1</td>\n",
              "      <td>23</td>\n",
              "      <td>19715.16</td>\n",
              "    </tr>\n",
              "    <tr>\n",
              "      <th>4</th>\n",
              "      <td>T1000005</td>\n",
              "      <td>250</td>\n",
              "      <td>S2</td>\n",
              "      <td>L3</td>\n",
              "      <td>R4</td>\n",
              "      <td>2018-01-01</td>\n",
              "      <td>1</td>\n",
              "      <td>1</td>\n",
              "      <td>62</td>\n",
              "      <td>45614.52</td>\n",
              "    </tr>\n",
              "  </tbody>\n",
              "</table>\n",
              "</div>"
            ],
            "text/plain": [
              "         ID  Store_id Store_Type  ... Discount #Order     Sales\n",
              "0  T1000001         1         S1  ...        1      9   7011.84\n",
              "1  T1000002       253         S4  ...        1     60  51789.12\n",
              "2  T1000003       252         S3  ...        1     42  36868.20\n",
              "3  T1000004       251         S2  ...        1     23  19715.16\n",
              "4  T1000005       250         S2  ...        1     62  45614.52\n",
              "\n",
              "[5 rows x 10 columns]"
            ]
          },
          "metadata": {},
          "execution_count": 31
        }
      ]
    },
    {
      "cell_type": "code",
      "metadata": {
        "id": "688dD-ubZ8K8"
      },
      "source": [
        "data2 = pd.concat([data.Store_id,data.Holiday,data.Discount,data.Sales],axis=1)"
      ],
      "execution_count": 32,
      "outputs": []
    },
    {
      "cell_type": "code",
      "metadata": {
        "id": "V8riqAKuaUO3"
      },
      "source": [
        "test_data = test.drop(columns=['ID','Store_Type','Location_Type','Region_Code','Date'])"
      ],
      "execution_count": 7,
      "outputs": []
    },
    {
      "cell_type": "code",
      "metadata": {
        "id": "HTd0KAPpabEW"
      },
      "source": [
        "test_data['Discount'].replace({'Yes':1,'No':0},inplace=True)  ## Replace Yes to 0 ans No to 1"
      ],
      "execution_count": 8,
      "outputs": []
    },
    {
      "cell_type": "code",
      "metadata": {
        "id": "8whUppVVadW9"
      },
      "source": [
        "test_data2 = test_data"
      ],
      "execution_count": 9,
      "outputs": []
    },
    {
      "cell_type": "code",
      "metadata": {
        "id": "sNIhmtz6dMp-"
      },
      "source": [
        "def get_data(st,en,df,y,sum30,sum20,sum10):\n",
        "    ''' This Function is used to calculate avg and last 5 days sales and then convert them to pandas dataframme\n",
        "    Input - st - Starting Index\n",
        "          en - Last Index\n",
        "          df - dataframe\n",
        "          y - Sales\n",
        "          sum30 - sum of sales of last 30 days\n",
        "          sum20 - sum of sales of last 20 days\n",
        "          sum10 - sum of sales of last 10 days\n",
        "    returns data and averages '''      \n",
        "\n",
        "    \n",
        "    df = df.iloc[st:en]\n",
        "    y = np.asarray(y)                  \n",
        "   \n",
        "    sz = en-st                    ## Size of Dataset\n",
        "    col_name = ['t1','t2','t3','t4','t5','av30','av20','av10']\n",
        "    for col in col_name : df[col] = np.zeros((sz,1))\n",
        "  \n",
        "    ycopy = np.zeros((sz+30,1))        ## Ycopy used for storing predictions extra 30 size is used to store values of last 30 days\n",
        "    ycopy[:30] = y[st-30:st].reshape(30,1)\n",
        "    \n",
        "    \n",
        "\n",
        "    df['t1'][st] = ycopy[29] \n",
        "    df['t2'][st] = ycopy[28]\n",
        "    df['t3'][st] = ycopy[27]\n",
        "    df['t4'][st] = ycopy[26] \n",
        "    df['t5'][st] = ycopy[25]\n",
        "    df['av30'][st] = sum30/30.0   ### Calculating Averages\n",
        "    df['av20'][st] = sum20/20.0\n",
        "    df['av10'][st] = sum10/10.0\n",
        " \n",
        "    ## Predicting Sales day wise \n",
        "    for i in range(sz-1):\n",
        "        ycopy[30+i] = clf.predict(np.asarray(df.iloc[i]).reshape(1,10))\n",
        "        \n",
        "        df['t1'][st+i+1] = ycopy[30+i]       ## Storing last 5 days sales and averages \n",
        "        df['t2'][st+i+1] = ycopy[29+i]\n",
        "        df['t3'][st+i+1] = ycopy[28+i]\n",
        "        df['t4'][st+i+1] = ycopy[27+i]\n",
        "        df['t5'][st+i+1] = ycopy[26+i]\n",
        "        sum30 += (ycopy[30+i]-ycopy[i])\n",
        "        sum20 += (ycopy[30+i]-ycopy[i+10])\n",
        "        sum10 += (ycopy[30+i]-ycopy[i+20])\n",
        "        df['av30'][st+i+1] = sum30/30.0\n",
        "        df['av20'][st+i+1] = sum20/20.0\n",
        "        df['av10'][st+i+1] = sum10/10.0\n",
        "\n",
        "    return df,y[st:en],sum30,sum20,sum10    \n"
      ],
      "execution_count": 109,
      "outputs": []
    },
    {
      "cell_type": "code",
      "metadata": {
        "id": "lPHKVtYudQKJ"
      },
      "source": [
        "def get_test_data(df,y,sum30,sum20,sum10):\n",
        "    ''' This function is used to calculate prediction on test data and return output and indexs of the data \n",
        "    Input Y - Last 30 Days Sales from given training data '''\n",
        "\n",
        "    df = df.reset_index()\n",
        "    idx = df['index']\n",
        "    df.drop(columns=['index','Store_id'],inplace=True)   ## Dropping columns which are of no use\n",
        "    sz = len(df)\n",
        "    col_name = ['t1','t2','t3','t4','t5','av30','av20','av10']\n",
        "    for col in col_name : df[col] = np.zeros((sz,1))          ## Initializing\n",
        "  \n",
        "   \n",
        "    ycopy = np.zeros((sz+30,1))    ## Storing values of last 30 days\n",
        "    ycopy[:30] = y\n",
        "\n",
        "    df['t1'][0] = ycopy[29]\n",
        "    df['t2'][0] = ycopy[28]\n",
        "    df['t3'][0] = ycopy[27]\n",
        "    df['t4'][0] = ycopy[26]\n",
        "    df['t5'][0] = ycopy[25]\n",
        "    df['av30'][0] = sum30/30.0   ## Calculating Averages\n",
        "    df['av20'][0] = sum20/20.0\n",
        "    df['av10'][0] = sum10/10.0\n",
        "    \n",
        "    for i in range(sz-1):\n",
        "        \n",
        "        ycopy[30+i] = clf.predict(np.asarray(df.iloc[i]).reshape(1,10))\n",
        "    \n",
        "        df['t1'][i+1] = ycopy[30+i]    ## Storing and calculating new averages and values\n",
        "        df['t2'][i+1] = ycopy[29+i]\n",
        "        df['t3'][i+1] = ycopy[28+i]\n",
        "        df['t4'][i+1] = ycopy[27+i]\n",
        "        df['t5'][i+1] = ycopy[26+i]\n",
        "        sum30 += ((ycopy[30+i]-ycopy[i]))\n",
        "        sum20 += (ycopy[30+i]-ycopy[i+10])\n",
        "        sum10 += (ycopy[30+i]-ycopy[i+20])\n",
        "        df['av30'][i+1] = sum30/30.0\n",
        "        df['av20'][i+1] = sum20/20.0\n",
        "        df['av10'][i+1] = sum10/10.0\n",
        "        \n",
        "    return df,idx   \n"
      ],
      "execution_count": 110,
      "outputs": []
    },
    {
      "cell_type": "code",
      "metadata": {
        "id": "EVwqPUQ7W2H2"
      },
      "source": [
        "clf = RandomForestRegressor(n_estimators=100,max_depth=15)\n",
        "days = []\n",
        "days = [151,212,273,334,396,455,516] ## Training for 151 days then predicting for next 61 days then using these 61 days\n",
        "                                     ### predicting sales for next 2 months\n",
        "y_pred = np.zeros((len(test_data),))\n",
        "for i in tqdm(range(1,366)):\n",
        "    df = data2[data2.Store_id==i]\n",
        "    df = df.reset_index()\n",
        "    y = df.Sales\n",
        "    y1 = y\n",
        "    df.drop(columns=['index','Sales','Store_id'],inplace=True)\n",
        "    nd = 30                  ## Initial no of days which will be not used as avg cannot be calculated for these rows\n",
        "    lent = days[0]- nd       ## length of intial data\n",
        "    sum30 = y[:30].sum()     ## Calculating sum of last 30,20,10,days\n",
        "    sum20 = y[10:30].sum()\n",
        "    sum10 = y[20:30].sum()\n",
        "    \n",
        "    dfcopy = df.iloc[nd:nd+lent]  ## Locating Data which will be used\n",
        "    \n",
        "    col_name = ['t1','t2','t3','t4','t5','av30','av20','av10']\n",
        "  \n",
        "      \n",
        "    for col in col_name : dfcopy[col] = np.zeros((lent,1))  \n",
        "   \n",
        "    for j in range(nd,nd+lent):\n",
        "        dfcopy['t1'][j-nd] = y1[j-1]       ## Calculating averages and last 5 days sales and storing them\n",
        "        dfcopy['t2'][j-nd] = y1[j-2]\n",
        "        dfcopy['t3'][j-nd] = y1[j-3]\n",
        "        dfcopy['t4'][j-nd] = y1[j-4]\n",
        "        dfcopy['t5'][j-nd] = y1[j-5]\n",
        "        dfcopy['av30'][j-nd] = sum30/30.0\n",
        "        dfcopy['av20'][j-nd] = sum20/20.0\n",
        "        dfcopy['av10'][j-nd] = sum10/10.0\n",
        "        sum30 += (y1[j]-y1[j-nd])\n",
        "        sum20 += (y1[j]-y1[j-nd+10])\n",
        "        sum10 += (y1[j]-y1[j-nd+20])\n",
        "        \n",
        "       \n",
        "    y1 = y1[nd:nd+lent]      ## Sales which will be used \n",
        "    \n",
        "    clf.fit(dfcopy,y1)      ## Training For the first Time\n",
        "\n",
        "    full_data = dfcopy     ## Data Used Till Now\n",
        "\n",
        "    for j in range(len(days)-1):\n",
        "      df3,yloc,sum30,sum20,sum10 = get_data(days[j],days[j+1],df,y,sum30,sum20,sum10)  ## Predicting values on next 2 Months\n",
        "      ypred = clf.predict(df3)                       ## Predicting \n",
        "      print(i,mean_squared_log_error(yloc,ypred))\n",
        "      full_data = pd.concat([full_data,df3],axis=0)   ### Now Add Initial data and Predicted data \n",
        "      full_y = y[nd:days[j+1]]             \n",
        "      clf.fit(full_data,full_y)                       ### train model for this new data\n",
        "\n",
        "    ### Training done for Store i\n",
        "    ### Prediction on Test Data\n",
        "\n",
        "    testd2 = test_data2[test_data2.Store_id==i]\n",
        "    testy = np.asarray(y[516-30:]).reshape(30,1)\n",
        "    df3,idx = get_test_data(testd2,testy,sum30,sum20,sum10)\n",
        "    y_out = clf.predict(df3)\n",
        "    y_pred[idx] = y_out    ### Storing Values in Final Output\n",
        "   "
      ],
      "execution_count": null,
      "outputs": []
    },
    {
      "cell_type": "code",
      "metadata": {
        "id": "-rQ-CSjRcACU"
      },
      "source": [
        "### Converting to CSV\n",
        "ans = pd.DataFrame()\n",
        "ans['ID'] = test['ID']\n",
        "ans['Sales'] = y_pred\n",
        "ans.to_csv('final,csv',index=false)"
      ],
      "execution_count": null,
      "outputs": []
    },
    {
      "cell_type": "code",
      "metadata": {
        "id": "VSYQHZIYAkPq"
      },
      "source": [
        ""
      ],
      "execution_count": null,
      "outputs": []
    }
  ]
}